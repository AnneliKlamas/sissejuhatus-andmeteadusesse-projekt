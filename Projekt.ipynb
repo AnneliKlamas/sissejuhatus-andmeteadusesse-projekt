{
 "cells": [
  {
   "cell_type": "code",
   "execution_count": 2,
   "metadata": {
    "pycharm": {
     "is_executing": false
    }
   },
   "outputs": [],
   "source": [
    "import pandas as pd\n",
    "import urllib.request, json"
   ]
  },
  {
   "cell_type": "markdown",
   "source": [
    "Funktsioon, millega saada andmed lehelt kätte. Tagastab andmed kujul [{}, {}, ... ,{}] ehk sõnastikke sisaldav massiiv, kus iga sõnastik hoiab infot ühe taotluse kohta\n"
   ],
   "metadata": {
    "collapsed": false
   }
  },
  {
   "cell_type": "code",
   "execution_count": 3,
   "outputs": [],
   "source": [
    "def getAndmed():\n",
    "    with urllib.request.urlopen(\"https://toetused.kul.ee/public/applications/fetch?sort=submission_date%7Cdesc&page=1&per_page=20000000&applicant=&organization=&applicationround=&submissionDate=%7B%22start%22:null,%22end%22:null%7D\") as f:\n",
    "        data = json.load(f)\n",
    "    andmed = data.get(\"data\")\n",
    "    return andmed"
   ],
   "metadata": {
    "collapsed": false,
    "pycharm": {
     "name": "#%%\n",
     "is_executing": false
    }
   }
  },
  {
   "cell_type": "markdown",
   "source": [
    "Tabeli tegemine"
   ],
   "metadata": {
    "collapsed": false
   }
  },
  {
   "cell_type": "code",
   "execution_count": 4,
   "outputs": [],
   "source": [
    "def tabel_andmetest():\n",
    "    rawAndmed = getAndmed()\n",
    "    \n",
    "    id = []\n",
    "    application_code = []\n",
    "    applicationround_title = []\n",
    "    approved_amount =[]\n",
    "    cost_statement_submission_date = []\n",
    "    cost_statement_submission_deadline = []\n",
    "    managing_organization_name = []\n",
    "    name = []\n",
    "    project_name = []\n",
    "    registration_date = []\n",
    "    registry_code = []\n",
    "    requested_amount = []\n",
    "    status = []\n",
    "    status_txt = []\n",
    "    submission_date = []\n",
    "    domain_code = []\n",
    "    domain_name =[]\n",
    "    \n",
    "    for taotlus in rawAndmed:\n",
    "        id.append(taotlus.get(\"id\"))\n",
    "        application_code.append(taotlus.get(\"application_code\"))\n",
    "        applicationround_title.append(taotlus.get(\"applicationround_title\"))\n",
    "        approved_amount.append(taotlus.get(\"approved_amount\"))\n",
    "        cost_statement_submission_date.append(taotlus.get(\"cost_statement_submission_date\"))\n",
    "        cost_statement_submission_deadline.append(taotlus.get(\"cost_statement_submission_deadline\"))\n",
    "        managing_organization_name.append(taotlus.get(\"managing_organization_name\"))\n",
    "        name.append(taotlus.get(\"name\"))\n",
    "        project_name.append(taotlus.get(\"project_name\"))\n",
    "        registration_date.append(taotlus.get(\"registration_date\"))\n",
    "        registry_code.append(taotlus.get(\"registry_code\"))\n",
    "        requested_amount.append(taotlus.get(\"requested_amount\"))\n",
    "        status.append(taotlus.get(\"status\"))\n",
    "        status_txt.append(taotlus.get(\"status_txt\"))\n",
    "        submission_date.append(taotlus.get(\"submission_date\"))\n",
    "        domain_code.append(taotlus.get(\"domain_code\"))\n",
    "        domain_name.append(taotlus.get(\"domain_name\"))\n",
    "    \n",
    "    andmed = pd.DataFrame(\n",
    "        {\"ID\" : id,\n",
    "        \"application_code\" : application_code,\n",
    "        \"applicationround_title\" : applicationround_title,\n",
    "        \"approved_amount\" : approved_amount,\n",
    "        \"cost_statement_submission_date\" : cost_statement_submission_date,\n",
    "        \"cost_statement_submission_deadline\" : cost_statement_submission_deadline,\n",
    "        \"managing_organization_name\" : managing_organization_name,\n",
    "        \"name\" : name,\n",
    "        \"project_name\" : project_name,\n",
    "        \"registration_date\" : registration_date,\n",
    "        \"registry_code\" : registry_code,\n",
    "        \"requested_amount\" : requested_amount,\n",
    "        \"status\" : status,\n",
    "        \"status_txt\" : status_txt,\n",
    "        \"submission_date\" : submission_date,\n",
    "        \"domain_code\" : domain_code,\n",
    "        \"domain_name\" : domain_name\n",
    "        }\n",
    "    )\n",
    "    return andmed"
   ],
   "metadata": {
    "collapsed": false,
    "pycharm": {
     "name": "#%%\n",
     "is_executing": false
    }
   }
  },
  {
   "cell_type": "code",
   "execution_count": 12,
   "outputs": [
    {
     "name": "stdout",
     "text": [
      "('Etendusasutuste tegevustoetus 2019.a', 93029300.0, 'Kultuuriministeerium', 'Tallinna Linnateater', None)\n"
     ],
     "output_type": "stream"
    }
   ],
   "source": [
    "def biggestFounding():\n",
    "    data = tabel_andmetest();\n",
    "    most_expensive = data.loc[data['approved_amount'].idxmax()]\n",
    "    applicationround_title = most_expensive[\"applicationround_title\"]\n",
    "    approved_amount = most_expensive[\"approved_amount\"]\n",
    "    managing_organization_name = most_expensive[\"managing_organization_name\"]\n",
    "    name = most_expensive[\"name\"]\n",
    "    project_name = most_expensive[\"project_name\"]\n",
    "    return applicationround_title, approved_amount, managing_organization_name, name, project_name\n",
    "    \n"
   ],
   "metadata": {
    "collapsed": false,
    "pycharm": {
     "name": "#%%\n",
     "is_executing": false
    }
   }
  },
  {
   "cell_type": "code",
   "execution_count": 14,
   "outputs": [
    {
     "name": "stdout",
     "text": [
      "('Ida-Virumaa ettevõtlust edendavad spordi- ja kultuuriüritused', 0.0, 'Integratsiooni Sihtasutus', 'Mittetulundusühing Õpilasesinduste Nõukogu', 'Jõuluküla')\n"
     ],
     "output_type": "stream"
    }
   ],
   "source": [
    "def smallestFounding():\n",
    "    data = tabel_andmetest();\n",
    "    cheapest = data.loc[data['approved_amount'].idxmin()]\n",
    "    applicationround_title = cheapest[\"applicationround_title\"]\n",
    "    approved_amount = cheapest[\"approved_amount\"]\n",
    "    managing_organization_name = cheapest[\"managing_organization_name\"]\n",
    "    name = cheapest[\"name\"]\n",
    "    project_name = cheapest[\"project_name\"]\n",
    "    return applicationround_title, approved_amount, managing_organization_name, name, project_name\n",
    "print(smallestFounding())"
   ],
   "metadata": {
    "collapsed": false,
    "pycharm": {
     "name": "#%%\n",
     "is_executing": false
    }
   }
  },
  {
   "cell_type": "code",
   "execution_count": null,
   "outputs": [],
   "source": [
    "#Väike kasutajaliides \n",
    "\n"
   ],
   "metadata": {
    "collapsed": false,
    "pycharm": {
     "name": "#%%\n"
    }
   }
  }
 ],
 "metadata": {
  "kernelspec": {
   "display_name": "Python 3",
   "language": "python",
   "name": "python3"
  },
  "language_info": {
   "codemirror_mode": {
    "name": "ipython",
    "version": 3
   },
   "file_extension": ".py",
   "mimetype": "text/x-python",
   "name": "python",
   "nbconvert_exporter": "python",
   "pygments_lexer": "ipython3",
   "version": "3.7.3"
  },
  "pycharm": {
   "stem_cell": {
    "cell_type": "raw",
    "source": [],
    "metadata": {
     "collapsed": false
    }
   }
  }
 },
 "nbformat": 4,
 "nbformat_minor": 2
}