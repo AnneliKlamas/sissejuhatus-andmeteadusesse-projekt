{
 "cells": [
  {
   "cell_type": "code",
   "execution_count": 362,
   "metadata": {
    "pycharm": {
     "is_executing": false
    }
   },
   "outputs": [],
   "source": [
    "import pandas as pd\n",
    "import urllib.request, json\n",
    "import pydotplus as pydotplus\n",
    "from sklearn import preprocessing, metrics\n",
    "from sklearn.tree import DecisionTreeClassifier\n",
    "from sklearn.model_selection import train_test_split\n",
    "from sklearn.metrics import confusion_matrix\n",
    "from sklearn.tree import export_graphviz\n",
    "from sklearn.externals.six import StringIO \n",
    "from IPython.display import Image \n",
    "import numpy as np"
   ]
  },
  {
   "cell_type": "markdown",
   "source": [
    "Funktsioon, millega saada andmed lehelt kätte. Tagastab andmed kujul [{}, {}, ... ,{}] ehk sõnastikke sisaldav massiiv, kus iga sõnastik hoiab infot ühe taotluse kohta\n"
   ],
   "metadata": {
    "collapsed": false
   }
  },
  {
   "cell_type": "code",
   "execution_count": 363,
   "outputs": [],
   "source": [
    "def getAndmed():\n",
    "    with urllib.request.urlopen(\"https://toetused.kul.ee/public/applications/fetch?sort=submission_date%7Cdesc&page=1&per_page=20000000&applicant=&organization=&applicationround=&submissionDate=%7B%22start%22:null,%22end%22:null%7D\") as f:\n",
    "        data = json.load(f)\n",
    "    andmed = data.get(\"data\")\n",
    "    return andmed"
   ],
   "metadata": {
    "collapsed": false,
    "pycharm": {
     "name": "#%%\n",
     "is_executing": false
    }
   }
  },
  {
   "cell_type": "markdown",
   "source": [
    "Tabeli tegemine"
   ],
   "metadata": {
    "collapsed": false
   }
  },
  {
   "cell_type": "code",
   "execution_count": 364,
   "outputs": [
    {
     "name": "stderr",
     "text": [
      "C:\\Users\\enrih\\Anaconda3\\lib\\site-packages\\pandas\\core\\generic.py:5096: SettingWithCopyWarning: \nA value is trying to be set on a copy of a slice from a DataFrame.\nTry using .loc[row_indexer,col_indexer] = value instead\n\nSee the caveats in the documentation: http://pandas.pydata.org/pandas-docs/stable/indexing.html#indexing-view-versus-copy\n  self[name] = value\nC:\\Users\\enrih\\Anaconda3\\lib\\site-packages\\sklearn\\model_selection\\_split.py:2179: FutureWarning: From version 0.21, test_size will always complement train_size unless both are specified.\n  FutureWarning)\n",
      "C:\\Users\\enrih\\Anaconda3\\lib\\site-packages\\pandas\\core\\generic.py:5096: SettingWithCopyWarning: \nA value is trying to be set on a copy of a slice from a DataFrame.\nTry using .loc[row_indexer,col_indexer] = value instead\n\nSee the caveats in the documentation: http://pandas.pydata.org/pandas-docs/stable/indexing.html#indexing-view-versus-copy\n  self[name] = value\nC:\\Users\\enrih\\Anaconda3\\lib\\site-packages\\sklearn\\model_selection\\_split.py:2179: FutureWarning: From version 0.21, test_size will always complement train_size unless both are specified.\n  FutureWarning)\n"
     ],
     "output_type": "stream"
    },
    {
     "name": "stdout",
     "text": [
      "Accuracy: 0.712280701754386\n1.0\n",
      "Accuracy: 0.7087719298245614\n"
     ],
     "output_type": "stream"
    },
    {
     "data": {
      "text/plain": "DecisionTreeClassifier(class_weight=None, criterion='gini', max_depth=6,\n            max_features=None, max_leaf_nodes=None,\n            min_impurity_decrease=0.0, min_impurity_split=None,\n            min_samples_leaf=1, min_samples_split=6,\n            min_weight_fraction_leaf=0, presort=False, random_state=None,\n            splitter='best')"
     },
     "metadata": {},
     "output_type": "execute_result",
     "execution_count": 364
    }
   ],
   "source": [
    "def tabel_andmetest():\n",
    "    rawAndmed = getAndmed()\n",
    "    \n",
    "    id = []\n",
    "    application_code = []\n",
    "    applicationround_title = []\n",
    "    approved_amount =[]\n",
    "    cost_statement_submission_date = []\n",
    "    cost_statement_submission_deadline = []\n",
    "    managing_organization_name = []\n",
    "    name = []\n",
    "    project_name = []\n",
    "    registration_date = []\n",
    "    registry_code = []\n",
    "    requested_amount = []\n",
    "    status = []\n",
    "    status_txt = []\n",
    "    submission_date = []\n",
    "    domain_code = []\n",
    "    domain_name =[]\n",
    "    \n",
    "    for taotlus in rawAndmed:\n",
    "        if taotlus.get(\"status\") == \"decision_ok\":\n",
    "            taotlus[\"status\"] = 1\n",
    "        elif taotlus.get(\"status\") == \"decision_not_ok\":\n",
    "            taotlus[\"status\"] = 0\n",
    "        else:\n",
    "            taotlus[\"status\"] = None\n",
    "        \n",
    "    \n",
    "    for taotlus in rawAndmed:\n",
    "        id.append(taotlus.get(\"id\"))\n",
    "        application_code.append(taotlus.get(\"application_code\"))\n",
    "        applicationround_title.append(taotlus.get(\"applicationround_title\"))\n",
    "        approved_amount.append(taotlus.get(\"approved_amount\"))\n",
    "        cost_statement_submission_date.append(taotlus.get(\"cost_statement_submission_date\"))\n",
    "        cost_statement_submission_deadline.append(taotlus.get(\"cost_statement_submission_deadline\"))\n",
    "        managing_organization_name.append(taotlus.get(\"managing_organization_name\"))\n",
    "        name.append(taotlus.get(\"name\"))\n",
    "        project_name.append(taotlus.get(\"project_name\"))\n",
    "        registration_date.append(taotlus.get(\"registration_date\"))\n",
    "        registry_code.append(taotlus.get(\"registry_code\"))\n",
    "        requested_amount.append(taotlus.get(\"requested_amount\"))\n",
    "        status.append(taotlus.get(\"status\"))\n",
    "        status_txt.append(taotlus.get(\"status_txt\"))\n",
    "        submission_date.append(taotlus.get(\"submission_date\"))\n",
    "        domain_code.append(taotlus.get(\"domain_code\"))\n",
    "        domain_name.append(taotlus.get(\"domain_name\"))\n",
    "    \n",
    "    andmed = pd.DataFrame(\n",
    "        {#\"ID\" : id,\n",
    "        \"application_code\" : application_code,\n",
    "        \"applicationround_title\" : applicationround_title,\n",
    "        \"approved_amount\" : approved_amount,\n",
    "        \"cost_statement_submission_date\" : cost_statement_submission_date,\n",
    "        \"cost_statement_submission_deadline\" : cost_statement_submission_deadline,\n",
    "        \"managing_organization_name\" : managing_organization_name,\n",
    "        \"name\" : name,\n",
    "        \"project_name\" : project_name,\n",
    "        \"registration_date\" : registration_date,\n",
    "        \"registry_code\" : registry_code,\n",
    "        \"requested_amount\" : requested_amount,\n",
    "        \"status\" : status,\n",
    "        \"status_txt\" : status_txt,\n",
    "        \"submission_date\" : submission_date,\n",
    "        \"domain_code\" : domain_code,\n",
    "        \"domain_name\" : domain_name\n",
    "        }\n",
    "    )\n",
    "    return andmed\n",
    "\n",
    "def decisionTree():\n",
    "    tabel = tabel_andmetest()\n",
    "    \n",
    "    feature_cols = [\"requested_amount\", \"domain_name\"]\n",
    "    treenimiseks = tabel[(tabel.status.notnull())]\n",
    "    \n",
    "    X = treenimiseks[feature_cols]\n",
    "    y = treenimiseks[\"status\"]\n",
    "    \n",
    "    enc1 = preprocessing.LabelEncoder()\n",
    "    domain_name_encoder = enc1.fit(tabel.domain_name.unique())\n",
    "    domain_int = domain_name_encoder.transform(X.domain_name)\n",
    "    X.domain_name = domain_int\n",
    "    \n",
    "    X_train, X_test, y_train, y_test = train_test_split(X, y, train_size=0.8, random_state=0)\n",
    "    dtc = DecisionTreeClassifier(class_weight=None, criterion='gini', max_depth=6,\n",
    "            max_features=None, max_leaf_nodes=None,\n",
    "            min_impurity_decrease=0.0, min_impurity_split=None,\n",
    "            min_samples_leaf=1, min_samples_split=6,\n",
    "            min_weight_fraction_leaf=0, presort=False, random_state=None,\n",
    "            splitter='best')\n",
    "    \n",
    "    dtc = dtc.fit(X_train, y_train)\n",
    "    \n",
    "    y_pred = dtc.predict(X_test)\n",
    "    #print(y_test, y_pred)\n",
    "    print(\"Accuracy:\",metrics.accuracy_score(y_test, y_pred))\n",
    "    import os\n",
    "    \n",
    "    os.environ['PATH'] = os.environ['PATH']+';'+os.environ['CONDA_PREFIX']+r\"\\Library\\bin\\graphviz\"\n",
    "    #dot_data = StringIO()\n",
    "    #export_graphviz(dtc, out_file=dot_data, filled=True, rounded=True, special_characters=True,feature_names = feature_cols,class_names=['0','1'])\n",
    "    #graph = pydotplus.graph_from_dot_data(dot_data.getvalue())  \n",
    "    #graph.write_png('pilt.png')\n",
    "    #Image(graph.create_png())\n",
    "    \n",
    "    return dtc\n",
    "\n",
    "def arva(arvamiseks):\n",
    "    feature_cols = [\"requested_amount\"]\n",
    "    X = arvamiseks[feature_cols]\n",
    "    \n",
    "    enc1 = preprocessing.LabelEncoder()\n",
    "    domain_name_encoder = enc1.fit(tabel.domain_name.unique())\n",
    "    domain_int = domain_name_encoder.transform(X.domain_name)\n",
    "    X.domain_name = domain_int\n",
    "    \n",
    "    \n",
    "    õpetaja = decisionTree(a)\n",
    "    tulemus = õpetaja.predict(X)\n",
    "    return tulemus\n",
    "\n",
    "def arvaLihtandmed(kategooria, summa):\n",
    "    \n",
    "    andmed = pd.DataFrame({\"domain_name\" : [kategooria], \"requested_amount\" : [summa]})\n",
    "    return arva(andmed)\n",
    "    \n",
    "print(arvaLihtandmed('Audiovisuaal', 50000000000000)[0])\n",
    "tabel = tabel_andmetest()\n",
    "arvamiseks = tabel[(tabel.status.isnull())]\n",
    "\n",
    "decisionTree()"
   ],
   "metadata": {
    "collapsed": false,
    "pycharm": {
     "name": "#%%\n",
     "is_executing": false
    }
   }
  },
  {
   "cell_type": "code",
   "execution_count": 365,
   "outputs": [],
   "source": [
    "def biggestFounding():\n",
    "    data = tabel_andmetest();\n",
    "    most_expensive = data.loc[data['approved_amount'].idxmax()]\n",
    "    applicationround_title = most_expensive[\"applicationround_title\"]\n",
    "    approved_amount = most_expensive[\"approved_amount\"]\n",
    "    managing_organization_name = most_expensive[\"managing_organization_name\"]\n",
    "    name = most_expensive[\"name\"]\n",
    "    project_name = most_expensive[\"project_name\"]\n",
    "    return applicationround_title, approved_amount, managing_organization_name, name, project_name\n",
    "    \n"
   ],
   "metadata": {
    "collapsed": false,
    "pycharm": {
     "name": "#%%\n",
     "is_executing": false
    }
   }
  },
  {
   "cell_type": "code",
   "execution_count": 366,
   "outputs": [],
   "source": [
    "def smallestFounding():\n",
    "    data = tabel_andmetest();\n",
    "    cheapest = data.loc[data['approved_amount'].idxmin()]\n",
    "    applicationround_title = cheapest[\"applicationround_title\"]\n",
    "    approved_amount = cheapest[\"approved_amount\"]\n",
    "    managing_organization_name = cheapest[\"managing_organization_name\"]\n",
    "    name = cheapest[\"name\"]\n",
    "    project_name = cheapest[\"project_name\"]\n",
    "    return applicationround_title, approved_amount, managing_organization_name, name, project_name\n"
   ],
   "metadata": {
    "collapsed": false,
    "pycharm": {
     "name": "#%%\n",
     "is_executing": false
    }
   }
  },
  {
   "cell_type": "code",
   "execution_count": 367,
   "outputs": [],
   "source": [
    "#Väike kasutajaliides \n",
    "\n",
    "from tkinter import *\n",
    "from tkinter import ttk\n",
    "from tkinter.ttk import *\n",
    "\n",
    "# GUI\n",
    "window = Tk()\n",
    "window.title(\"OPENDATA ESTONIA - Estonia's culture ministry's grant applications\")\n",
    "window.resizable(False, False)\n",
    "window.geometry(\"641x300\")\n",
    "tabControll = ttk.Notebook(window)\n",
    "\n",
    "tab1 = ttk.Frame(tabControll)\n",
    "tabControll.add(tab1, text=\"Introduction\")\n",
    "\n",
    "tab2 = ttk.Frame(tabControll)\n",
    "tabControll.add(tab2, text=\"Will Your project get founding?\")\n",
    "\n",
    "tab3 = ttk.Frame(tabControll)\n",
    "tabControll.add(tab3, text=\"Top projects with smallest founding\")\n",
    "\n",
    "tab4 = ttk.Frame(tabControll)\n",
    "tabControll.add(tab4, text=\"Top projects with biggest founding\")\n",
    "\n",
    "#TAB 1\n",
    "text1Tab1 = ttk.Label(tab1, text=\"We are ...\") \n",
    "text1Tab1.pack()\n",
    "text2Tab1 = ttk.Label(tab1, text=\"Our project is about ... \")\n",
    "text2Tab1.pack()\n",
    "text3Tab1 = ttk.Label(tab1, text=\"You can try ... \")\n",
    "text3Tab1.pack()\n",
    "text4Tab1 = ttk.Label(tab1, text=\"Have fun! :)\")\n",
    "text4Tab1.pack()\n",
    "\n",
    "#TAB 2\n",
    "text1Tab2 = ttk.Label(tab2, text=\"Choose domain name\")\n",
    "text1Tab2.grid(column=0, row=0)\n",
    "combo1Tab2 = Combobox(tab2)\n",
    "data = tabel_andmetest()\n",
    "domain_names = data[\"domain_name\"].unique()\n",
    "combo1Tab2['values'] = domain_names\n",
    "combo1Tab2.current(1)\n",
    "combo1Tab2.grid(column=1, row=0)\n",
    "\n",
    "text2Tab2 = ttk.Label(tab2, text=\"Enter requested amount\")\n",
    "text2Tab2.grid(column=0, row=1)\n",
    "entry2Tab2 = Entry(tab2)\n",
    "entry2Tab2.grid(column=1, row=1)\n",
    "buttonTab2 = Button(tab2, text=\"Calculate\")\n",
    "buttonTab2.grid(column=0, row=2)\n",
    "tabControll.pack(expand=1, fill=\"both\")\n",
    "\n",
    "\n",
    "\n",
    "#saab kasutada kasutaja sisendi joks\n",
    "#kasutaja_sisend = ttk.Entry(raam)\n",
    "#kasutaja_sisend.place(x=120, y=130, height=25, width=240)\n",
    "\n",
    "window.mainloop()"
   ],
   "metadata": {
    "collapsed": false,
    "pycharm": {
     "name": "#%%\n",
     "is_executing": false
    }
   }
  },
  {
   "cell_type": "code",
   "execution_count": null,
   "outputs": [],
   "source": [
    "\n"
   ],
   "metadata": {
    "collapsed": false,
    "pycharm": {
     "name": "#%%\n"
    }
   }
  }
 ],
 "metadata": {
  "kernelspec": {
   "display_name": "Python 3",
   "language": "python",
   "name": "python3"
  },
  "language_info": {
   "codemirror_mode": {
    "name": "ipython",
    "version": 3
   },
   "file_extension": ".py",
   "mimetype": "text/x-python",
   "name": "python",
   "nbconvert_exporter": "python",
   "pygments_lexer": "ipython3",
   "version": "3.7.3"
  },
  "pycharm": {
   "stem_cell": {
    "cell_type": "raw",
    "source": [],
    "metadata": {
     "collapsed": false
    }
   }
  }
 },
 "nbformat": 4,
 "nbformat_minor": 2
}