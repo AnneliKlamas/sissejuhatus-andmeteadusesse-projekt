{
 "cells": [
  {
   "cell_type": "code",
   "execution_count": 156,
   "metadata": {
    "pycharm": {
     "is_executing": false
    }
   },
   "outputs": [],
   "source": [
    "import pandas as pd\n",
    "import urllib.request, json\n",
    "import pydotplus as pydotplus\n",
    "from sklearn import preprocessing, metrics\n",
    "from sklearn.tree import DecisionTreeClassifier\n",
    "from sklearn.model_selection import train_test_split\n",
    "from sklearn.metrics import confusion_matrix\n",
    "from sklearn.tree import export_graphviz\n",
    "from sklearn.externals.six import StringIO \n",
    "from IPython.display import Image \n",
    "import numpy as np"
   ]
  },
  {
   "cell_type": "markdown",
   "source": [
    "Funktsioon, millega saada andmed lehelt kätte. Tagastab andmed kujul [{}, {}, ... ,{}] ehk sõnastikke sisaldav massiiv, kus iga sõnastik hoiab infot ühe taotluse kohta\n"
   ],
   "metadata": {
    "collapsed": false
   }
  },
  {
   "cell_type": "code",
   "execution_count": 157,
   "outputs": [],
   "source": [
    "def getAndmed():\n",
    "    with urllib.request.urlopen(\"https://toetused.kul.ee/public/applications/fetch?sort=submission_date%7Cdesc&page=1&per_page=20000000&applicant=&organization=&applicationround=&submissionDate=%7B%22start%22:null,%22end%22:null%7D\") as f:\n",
    "        data = json.load(f)\n",
    "    andmed = data.get(\"data\")\n",
    "    return andmed"
   ],
   "metadata": {
    "collapsed": false,
    "pycharm": {
     "name": "#%%\n",
     "is_executing": false
    }
   }
  },
  {
   "cell_type": "markdown",
   "source": [
    "Tabeli tegemine"
   ],
   "metadata": {
    "collapsed": false
   }
  },
  {
   "cell_type": "code",
   "execution_count": 161,
   "outputs": [],
   "source": [
    "def tabel_andmetest():\n",
    "    rawAndmed = getAndmed()\n",
    "    \n",
    "    id = []\n",
    "    application_code = []\n",
    "    applicationround_title = []\n",
    "    approved_amount =[]\n",
    "    cost_statement_submission_date = []\n",
    "    cost_statement_submission_deadline = []\n",
    "    managing_organization_name = []\n",
    "    name = []\n",
    "    project_name = []\n",
    "    registration_date = []\n",
    "    registry_code = []\n",
    "    requested_amount = []\n",
    "    status = []\n",
    "    status_txt = []\n",
    "    submission_date = []\n",
    "    domain_code = []\n",
    "    domain_name =[]\n",
    "    \n",
    "    for taotlus in rawAndmed:\n",
    "        if taotlus.get(\"status\") == \"decision_ok\":\n",
    "            taotlus[\"status\"] = 1\n",
    "        elif taotlus.get(\"status\") == \"decision_not_ok\":\n",
    "            taotlus[\"status\"] = 0\n",
    "        else:\n",
    "            taotlus[\"status\"] = None\n",
    "        \n",
    "    \n",
    "    for taotlus in rawAndmed:\n",
    "        id.append(taotlus.get(\"id\"))\n",
    "        application_code.append(taotlus.get(\"application_code\"))\n",
    "        applicationround_title.append(taotlus.get(\"applicationround_title\"))\n",
    "        approved_amount.append(taotlus.get(\"approved_amount\"))\n",
    "        cost_statement_submission_date.append(taotlus.get(\"cost_statement_submission_date\"))\n",
    "        cost_statement_submission_deadline.append(taotlus.get(\"cost_statement_submission_deadline\"))\n",
    "        managing_organization_name.append(taotlus.get(\"managing_organization_name\"))\n",
    "        name.append(taotlus.get(\"name\"))\n",
    "        project_name.append(taotlus.get(\"project_name\"))\n",
    "        registration_date.append(taotlus.get(\"registration_date\"))\n",
    "        registry_code.append(taotlus.get(\"registry_code\"))\n",
    "        requested_amount.append(taotlus.get(\"requested_amount\"))\n",
    "        status.append(taotlus.get(\"status\"))\n",
    "        status_txt.append(taotlus.get(\"status_txt\"))\n",
    "        submission_date.append(taotlus.get(\"submission_date\"))\n",
    "        domain_code.append(taotlus.get(\"domain_code\"))\n",
    "        domain_name.append(taotlus.get(\"domain_name\"))\n",
    "    \n",
    "    andmed = pd.DataFrame(\n",
    "        {#\"ID\" : id,\n",
    "        \"application_code\" : application_code,\n",
    "        \"applicationround_title\" : applicationround_title,\n",
    "        \"approved_amount\" : approved_amount,\n",
    "        \"cost_statement_submission_date\" : cost_statement_submission_date,\n",
    "        \"cost_statement_submission_deadline\" : cost_statement_submission_deadline,\n",
    "        \"managing_organization_name\" : managing_organization_name,\n",
    "        \"name\" : name,\n",
    "        \"project_name\" : project_name,\n",
    "        \"registration_date\" : registration_date,\n",
    "        \"registry_code\" : registry_code,\n",
    "        \"requested_amount\" : requested_amount,\n",
    "        \"status\" : status,\n",
    "        \"status_txt\" : status_txt,\n",
    "        \"submission_date\" : submission_date,\n",
    "        \"domain_code\" : domain_code,\n",
    "        \"domain_name\" : domain_name\n",
    "        }\n",
    "    )\n",
    "    return andmed\n",
    "\n",
    "def decisionTree():\n",
    "    tabel = tabel_andmetest()\n",
    "    \n",
    "    feature_cols = [\"domain_name\", \"requested_amount\"]\n",
    "    treenimiseks = tabel[(tabel.status.notnull())]\n",
    "    \n",
    "    X = treenimiseks[feature_cols]\n",
    "    y = treenimiseks[\"status\"]\n",
    "    \n",
    "    enc = preprocessing.LabelEncoder()\n",
    "    label_encoder = enc.fit(tabel.domain_name.unique())\n",
    "    t = label_encoder.transform(X.domain_name)\n",
    "    X.domain_name = t\n",
    "    \n",
    "    X_train, X_test, y_train, y_test = train_test_split(X, y, test_size=0.3, random_state=1) # 70% training and 30% test\n",
    "    dtc = DecisionTreeClassifier()\n",
    "    \n",
    "    dtc = dtc.fit(X_train, y_train)\n",
    "    \n",
    "    y_pred = dtc.predict(X_test)\n",
    "    print(\"Accuracy:\",metrics.accuracy_score(y_test, y_pred))\n",
    "    import os\n",
    "    \n",
    "    os.environ['PATH'] = os.environ['PATH']+';'+os.environ['CONDA_PREFIX']+r\"\\Library\\bin\\graphviz\"\n",
    "    dot_data = StringIO()\n",
    "    export_graphviz(dtc, out_file=dot_data,  \n",
    "                    filled=True, rounded=True,\n",
    "                    special_characters=True,feature_names = feature_cols,class_names=['0','1'])\n",
    "    graph = pydotplus.graph_from_dot_data(dot_data.getvalue())  \n",
    "    graph.write_png('pilt.png')\n",
    "    Image(graph.create_png())\n",
    "    "
   ],
   "metadata": {
    "collapsed": false,
    "pycharm": {
     "name": "#%%\n",
     "is_executing": false
    }
   }
  },
  {
   "cell_type": "code",
   "execution_count": 162,
   "outputs": [],
   "source": [
    "def biggestFounding():\n",
    "    data = tabel_andmetest();\n",
    "    most_expensive = data.loc[data['approved_amount'].idxmax()]\n",
    "    applicationround_title = most_expensive[\"applicationround_title\"]\n",
    "    approved_amount = most_expensive[\"approved_amount\"]\n",
    "    managing_organization_name = most_expensive[\"managing_organization_name\"]\n",
    "    name = most_expensive[\"name\"]\n",
    "    project_name = most_expensive[\"project_name\"]\n",
    "    return applicationround_title, approved_amount, managing_organization_name, name, project_name\n",
    "    \n"
   ],
   "metadata": {
    "collapsed": false,
    "pycharm": {
     "name": "#%%\n",
     "is_executing": false
    }
   }
  },
  {
   "cell_type": "code",
   "execution_count": 163,
   "outputs": [
    {
     "name": "stdout",
     "text": [
      "('Ida-Virumaa ettevõtlust edendavad spordi- ja kultuuriüritused', 0.0, 'Integratsiooni Sihtasutus', 'Mittetulundusühing Õpilasesinduste Nõukogu', 'Jõuluküla')\n"
     ],
     "output_type": "stream"
    }
   ],
   "source": [
    "def smallestFounding():\n",
    "    data = tabel_andmetest();\n",
    "    cheapest = data.loc[data['approved_amount'].idxmin()]\n",
    "    applicationround_title = cheapest[\"applicationround_title\"]\n",
    "    approved_amount = cheapest[\"approved_amount\"]\n",
    "    managing_organization_name = cheapest[\"managing_organization_name\"]\n",
    "    name = cheapest[\"name\"]\n",
    "    project_name = cheapest[\"project_name\"]\n",
    "    return applicationround_title, approved_amount, managing_organization_name, name, project_name\n",
    "print(smallestFounding())"
   ],
   "metadata": {
    "collapsed": false,
    "pycharm": {
     "name": "#%%\n",
     "is_executing": false
    }
   }
  },
  {
   "cell_type": "code",
   "execution_count": null,
   "outputs": [],
   "source": [
    "#Väike kasutajaliides \n",
    "\n",
    "\n"
   ],
   "metadata": {
    "collapsed": false,
    "pycharm": {
     "name": "#%%\n"
    }
   }
  }
 ],
 "metadata": {
  "kernelspec": {
   "display_name": "Python 3",
   "language": "python",
   "name": "python3"
  },
  "language_info": {
   "codemirror_mode": {
    "name": "ipython",
    "version": 3
   },
   "file_extension": ".py",
   "mimetype": "text/x-python",
   "name": "python",
   "nbconvert_exporter": "python",
   "pygments_lexer": "ipython3",
   "version": "3.7.3"
  },
  "pycharm": {
   "stem_cell": {
    "cell_type": "raw",
    "source": [],
    "metadata": {
     "collapsed": false
    }
   }
  }
 },
 "nbformat": 4,
 "nbformat_minor": 2
}